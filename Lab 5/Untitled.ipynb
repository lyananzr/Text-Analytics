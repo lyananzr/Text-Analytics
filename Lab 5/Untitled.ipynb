{
 "cells": [
  {
   "cell_type": "code",
   "execution_count": 1,
   "id": "f6293b8d-d344-4513-be0b-34b9e3ecbe2b",
   "metadata": {},
   "outputs": [],
   "source": [
    "from collections import Counter #count word occurrences\n",
    "import pandas as pd"
   ]
  },
  {
   "cell_type": "code",
   "execution_count": 3,
   "id": "a3e08c09-5edd-4fc9-b56c-cbaaa453ec31",
   "metadata": {},
   "outputs": [],
   "source": [
    "file_path = \"Processed_Reviews.csv\"\n",
    "df = pd.read_csv(file_path)"
   ]
  },
  {
   "cell_type": "code",
   "execution_count": 5,
   "id": "f6a373f4-c238-40ab-b551-ecd47194f77b",
   "metadata": {},
   "outputs": [],
   "source": [
    "tokenized_reviews = df['tokenized'].dropna().apply(eval)"
   ]
  },
  {
   "cell_type": "code",
   "execution_count": 7,
   "id": "6686bccd-04b5-4628-92c1-83d326e4cfbc",
   "metadata": {},
   "outputs": [],
   "source": [
    "all_words = [word for review in tokenized_reviews for word in review]\n",
    "unique_words = list(set(all_words))"
   ]
  },
  {
   "cell_type": "code",
   "execution_count": 9,
   "id": "cd7e22b4-4103-4dca-b12b-4ae7e41b5be3",
   "metadata": {},
   "outputs": [],
   "source": [
    "word_freq = Counter(all_words)\n",
    "sorted_word_freq = dict(sorted(word_freq.items(), key=lambda item: item[1], reverse=True))"
   ]
  },
  {
   "cell_type": "code",
   "execution_count": 11,
   "id": "b7857a1e-ec44-42fb-8dfd-6e20912f1897",
   "metadata": {},
   "outputs": [],
   "source": [
    "document_vectors = []\n",
    "for review in tokenized_reviews:\n",
    " document_vector = [1 if word in review else 0 for word in sorted_word_freq.keys()]\n",
    " document_vectors.append(document_vector)"
   ]
  },
  {
   "cell_type": "code",
   "execution_count": 13,
   "id": "112fb32c-cf23-4126-8f52-319a1294de2a",
   "metadata": {},
   "outputs": [],
   "source": [
    "doc_vectors_df = pd.DataFrame(document_vectors, columns=sorted_word_freq.keys())"
   ]
  },
  {
   "cell_type": "code",
   "execution_count": 15,
   "id": "81868a9c-d527-4ba9-865a-44a7be2cb0dc",
   "metadata": {},
   "outputs": [],
   "source": [
    "doc_vectors_df.to_csv(\"document_vectors.csv\", index=False)"
   ]
  },
  {
   "cell_type": "code",
   "execution_count": 17,
   "id": "33056361-c878-4aed-ba58-844521186d50",
   "metadata": {},
   "outputs": [
    {
     "name": "stdout",
     "output_type": "stream",
     "text": [
      "Word Frequency Table:\n",
      "           Word  Frequency\n",
      "0       product          7\n",
      "1       quality          3\n",
      "2         great          2\n",
      "3       amazing          2\n",
      "4          love          2\n",
      "5       awesome          2\n",
      "6          work          2\n",
      "7     perfectly          2\n",
      "8          life          2\n",
      "9        expect          2\n",
      "10       arrive          1\n",
      "11         time          1\n",
      "12    packaging          1\n",
      "13        amaze          1\n",
      "14          buy          1\n",
      "15        phone          1\n",
      "16           hz          1\n",
      "17      display          1\n",
      "18      totally          1\n",
      "19        worth          1\n",
      "20          wow          1\n",
      "21          bit          1\n",
      "22    expensive          1\n",
      "23       laptop          1\n",
      "24         fine          1\n",
      "25        check          1\n",
      "26         full          1\n",
      "27       detail          1\n",
      "28     purchase          1\n",
      "29        happy          1\n",
      "30      battery          1\n",
      "31    excellent          1\n",
      "32       charge          1\n",
      "33        cable          1\n",
      "34        short          1\n",
      "35          can          1\n",
      "36          not          1\n",
      "37      believe          1\n",
      "38         good          1\n",
      "39         fast          1\n",
      "40     delivery          1\n",
      "41       honest          1\n",
      "42         much          1\n",
      "43           oh          1\n",
      "44          god          1\n",
      "45         best          1\n",
      "46         ever          1\n",
      "47          use          1\n",
      "48         shoe          1\n",
      "49  comfortable          1\n",
      "50          fit          1\n",
      "51       nicely          1\n",
      "52          jog          1\n"
     ]
    }
   ],
   "source": [
    "word_freq_df = pd.DataFrame(list(sorted_word_freq.items()), columns=[\"Word\",\n",
    "\"Frequency\"])\n",
    "print(\"Word Frequency Table:\")\n",
    "print(word_freq_df)"
   ]
  },
  {
   "cell_type": "code",
   "execution_count": 19,
   "id": "069cdfa8-2b18-48ba-be8c-bbf5f228eccc",
   "metadata": {},
   "outputs": [],
   "source": [
    "import pandas as pd\n",
    "import math # use for log function\n",
    "from collections import Counter"
   ]
  },
  {
   "cell_type": "code",
   "execution_count": 21,
   "id": "91047f44-5973-402e-a226-2e27868ff920",
   "metadata": {},
   "outputs": [],
   "source": [
    "file_path = \"Processed_Reviews.csv\"\n",
    "df = pd.read_csv(file_path)"
   ]
  },
  {
   "cell_type": "code",
   "execution_count": 23,
   "id": "119cf841-61d9-42f7-9e53-4d65108a3403",
   "metadata": {},
   "outputs": [],
   "source": [
    "tokenized_reviews = df['tokenized'].dropna().apply(eval)"
   ]
  },
  {
   "cell_type": "code",
   "execution_count": 25,
   "id": "7c771c38-a9a5-4673-8ab1-542f96b55a7d",
   "metadata": {},
   "outputs": [],
   "source": [
    "def compute_tf(document):\n",
    " word_count = Counter(document)\n",
    " tf = {word: count / len(document) for word, count in word_count.items()}\n",
    " return tf"
   ]
  },
  {
   "cell_type": "code",
   "execution_count": 27,
   "id": "cdacff10-1f1d-4c34-b926-efbbadab6594",
   "metadata": {},
   "outputs": [
    {
     "ename": "IndentationError",
     "evalue": "expected an indented block after 'for' statement on line 5 (3918502740.py, line 6)",
     "output_type": "error",
     "traceback": [
      "\u001b[1;36m  Cell \u001b[1;32mIn[27], line 6\u001b[1;36m\u001b[0m\n\u001b[1;33m    count = sum(1 for doc in documents if word in doc)\u001b[0m\n\u001b[1;37m    ^\u001b[0m\n\u001b[1;31mIndentationError\u001b[0m\u001b[1;31m:\u001b[0m expected an indented block after 'for' statement on line 5\n"
     ]
    }
   ],
   "source": [
    "def compute_idf(documents):\n",
    " N = len(documents) # Total number of documents\n",
    " idf = {}\n",
    " all_words = set(word for doc in documents for word in doc) # Unique words\n",
    " for word in all_words:\n",
    " count = sum(1 for doc in documents if word in doc)\n",
    " idf[word] = math.log(N / count)\n",
    " return idf"
   ]
  },
  {
   "cell_type": "code",
   "execution_count": 29,
   "id": "c4dc72c0-8b3d-4bf0-ab99-27de0d0c904b",
   "metadata": {},
   "outputs": [],
   "source": [
    "def compute_idf(documents):\n",
    " N = len(documents) # Total number of documents\n",
    " idf = {}\n",
    " all_words = set(word for doc in documents for word in doc) # Unique words\n",
    " for word in all_words:\n",
    "     count = sum(1 for doc in documents if word in doc)\n",
    "     idf[word] = math.log(N / count)\n",
    " return idf"
   ]
  },
  {
   "cell_type": "code",
   "execution_count": 31,
   "id": "8aadd01a-db05-4b1a-9c58-2e4ca0a95f1c",
   "metadata": {},
   "outputs": [],
   "source": [
    "def compute_tfidf(document, idf):\n",
    " tfidf = {}\n",
    " tf = compute_tf(document) # Get TF values for the document\n",
    " for word, tf_value in tf.items():\n",
    "     tfidf[word] = tf_value * idf[word] # Multiply TF and IDF\n",
    " return tfidf"
   ]
  },
  {
   "cell_type": "code",
   "execution_count": 33,
   "id": "d8976b7b-30ee-4e67-9566-10aa418478f4",
   "metadata": {},
   "outputs": [],
   "source": [
    "documents = tokenized_reviews.tolist()"
   ]
  },
  {
   "cell_type": "code",
   "execution_count": 35,
   "id": "07ad37b6-5fe3-450b-8cb0-6ca81a2289a3",
   "metadata": {},
   "outputs": [],
   "source": [
    "tf_data = [compute_tf(doc) for doc in documents]\n",
    "tf_df = pd.DataFrame(tf_data).fillna(0)\n",
    "tf_df.to_csv(\"tf_scores.csv\", index=False)"
   ]
  },
  {
   "cell_type": "code",
   "execution_count": 37,
   "id": "12912125-e58c-450b-b1db-7453475b2cda",
   "metadata": {},
   "outputs": [],
   "source": [
    "idf = compute_idf(documents)\n",
    "idf_df = pd.DataFrame([idf]).fillna(0)\n",
    "idf_df.to_csv(\"idf_scores.csv\", index=False)"
   ]
  },
  {
   "cell_type": "code",
   "execution_count": 39,
   "id": "f69c6cc1-bb99-4d64-a0c7-2cd8a207ed3a",
   "metadata": {},
   "outputs": [],
   "source": [
    "tfidf_data = [compute_tfidf(doc, idf) for doc in documents]\n",
    "tfidf_df = pd.DataFrame(tfidf_data).fillna(0)\n",
    "tfidf_df.to_csv(\"tfidf_scores.csv\", index=False)"
   ]
  },
  {
   "cell_type": "code",
   "execution_count": null,
   "id": "299fc87c-f9cf-4578-a286-e19c90f745c0",
   "metadata": {},
   "outputs": [],
   "source": []
  }
 ],
 "metadata": {
  "kernelspec": {
   "display_name": "Python [conda env:base] *",
   "language": "python",
   "name": "conda-base-py"
  },
  "language_info": {
   "codemirror_mode": {
    "name": "ipython",
    "version": 3
   },
   "file_extension": ".py",
   "mimetype": "text/x-python",
   "name": "python",
   "nbconvert_exporter": "python",
   "pygments_lexer": "ipython3",
   "version": "3.12.7"
  }
 },
 "nbformat": 4,
 "nbformat_minor": 5
}
