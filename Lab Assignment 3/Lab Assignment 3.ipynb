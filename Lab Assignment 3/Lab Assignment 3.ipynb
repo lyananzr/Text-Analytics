{
 "cells": [
  {
   "cell_type": "code",
   "execution_count": 3,
   "id": "dc41a179-d42c-4520-b519-08f8f9c0bbfc",
   "metadata": {},
   "outputs": [
    {
     "name": "stderr",
     "output_type": "stream",
     "text": [
      "[nltk_data] Downloading package stopwords to\n",
      "[nltk_data]     C:\\Users\\User\\AppData\\Roaming\\nltk_data...\n",
      "[nltk_data]   Package stopwords is already up-to-date!\n",
      "[nltk_data] Downloading package punkt to\n",
      "[nltk_data]     C:\\Users\\User\\AppData\\Roaming\\nltk_data...\n",
      "[nltk_data]   Package punkt is already up-to-date!\n",
      "[nltk_data] Downloading package wordnet to\n",
      "[nltk_data]     C:\\Users\\User\\AppData\\Roaming\\nltk_data...\n",
      "[nltk_data]   Package wordnet is already up-to-date!\n"
     ]
    },
    {
     "name": "stdout",
     "output_type": "stream",
     "text": [
      "Topic 1: 0.010*\"file\" + 0.007*\"program\" + 0.007*\"system\" + 0.006*\"information\" + 0.005*\"available\" + 0.005*\"window\" + 0.004*\"data\" + 0.004*\"user\" + 0.004*\"message\" + 0.004*\"anonymous\"\n",
      "Topic 2: 0.008*\"would\" + 0.007*\"like\" + 0.006*\"know\" + 0.006*\"dont\" + 0.006*\"game\" + 0.006*\"year\" + 0.005*\"good\" + 0.005*\"time\" + 0.005*\"team\" + 0.005*\"think\"\n",
      "Topic 3: 0.028*\"maxaxaxaxaxaxaxaxaxaxaxaxaxaxax\" + 0.023*\"chip\" + 0.011*\"clipper\" + 0.008*\"drive\" + 0.007*\"system\" + 0.007*\"device\" + 0.007*\"disk\" + 0.006*\"card\" + 0.006*\"escrow\" + 0.005*\"phone\"\n",
      "Topic 4: 0.009*\"people\" + 0.008*\"would\" + 0.005*\"dont\" + 0.005*\"think\" + 0.004*\"government\" + 0.004*\"know\" + 0.004*\"right\" + 0.004*\"time\" + 0.003*\"like\" + 0.003*\"even\"\n",
      "\n",
      "Coherence Score: 0.5675296311458514\n",
      "\n",
      "--- Interpretation ---\n",
      "The coherence score indicates how consistent and semantically meaningful the topics are.\n",
      "Scores range from 0 to 1. A higher score (closer to 1) means better topic modeling.\n",
      "In this case, a score of 0.568 suggests the topics are reasonably interpretable.\n"
     ]
    }
   ],
   "source": [
    "# Name: Siti Nur Lyana binti Mohd Nazri, Mohammad Naufal Eiman bin Shahromi\n",
    "# ID: IS01082645, IS01082514\n",
    "\n",
    "import pandas as pd\n",
    "import nltk\n",
    "import re\n",
    "import gensim\n",
    "from gensim import corpora\n",
    "from nltk.corpus import stopwords\n",
    "from nltk.stem import WordNetLemmatizer\n",
    "from gensim.models import CoherenceModel\n",
    "import warnings\n",
    "warnings.filterwarnings(\"ignore\")\n",
    "\n",
    "\n",
    "nltk.download('stopwords')\n",
    "nltk.download('punkt')\n",
    "nltk.download('wordnet')\n",
    "\n",
    "\n",
    "df = pd.read_csv(\"news_dataset.csv\")\n",
    "df = df[['text']]\n",
    "\n",
    "\n",
    "df.dropna(inplace=True)\n",
    "\n",
    "\n",
    "stop_words = set(stopwords.words('english'))\n",
    "lemmatizer = WordNetLemmatizer()\n",
    "\n",
    "def preprocess(text):\n",
    "    \n",
    "    text = text.lower()\n",
    "    \n",
    "    text = re.sub(r'[^a-zA-Z\\s]', '', text)\n",
    "    \n",
    "    tokens = nltk.word_tokenize(text)\n",
    "\n",
    "    tokens = [word for word in tokens if word not in stop_words and len(word) > 3]\n",
    "    \n",
    "    tokens = [lemmatizer.lemmatize(word) for word in tokens]\n",
    "    return tokens\n",
    "\n",
    "df['tokens'] = df['text'].apply(preprocess)\n",
    "\n",
    "\n",
    "dictionary = corpora.Dictionary(df['tokens'])\n",
    "corpus = [dictionary.doc2bow(text) for text in df['tokens']]\n",
    "\n",
    "\n",
    "lda_model = gensim.models.LdaModel(corpus=corpus,\n",
    "                                   id2word=dictionary,\n",
    "                                   num_topics=4,\n",
    "                                   random_state=42,\n",
    "                                   passes=10,\n",
    "                                   per_word_topics=True)\n",
    "\n",
    "\n",
    "for idx, topic in lda_model.print_topics(-1):\n",
    "    print(f\"Topic {idx + 1}: {topic}\")\n",
    "\n",
    "coherence_model_lda = CoherenceModel(model=lda_model, texts=df['tokens'], dictionary=dictionary, coherence='c_v')\n",
    "coherence_score = coherence_model_lda.get_coherence()\n",
    "print(\"\\nCoherence Score:\", coherence_score)\n",
    "\n",
    "print(\"\\n--- Interpretation ---\")\n",
    "print(\"The coherence score indicates how consistent and semantically meaningful the topics are.\")\n",
    "print(\"Scores range from 0 to 1. A higher score (closer to 1) means better topic modeling.\")\n",
    "print(\"In this case, a score of\", round(coherence_score, 3), \"suggests the topics are reasonably interpretable.\")\n"
   ]
  },
  {
   "cell_type": "code",
   "execution_count": null,
   "id": "5dee03ae-7f8c-4ce3-8bbb-253a793d0a4f",
   "metadata": {},
   "outputs": [],
   "source": []
  }
 ],
 "metadata": {
  "kernelspec": {
   "display_name": "Python [conda env:base] *",
   "language": "python",
   "name": "conda-base-py"
  },
  "language_info": {
   "codemirror_mode": {
    "name": "ipython",
    "version": 3
   },
   "file_extension": ".py",
   "mimetype": "text/x-python",
   "name": "python",
   "nbconvert_exporter": "python",
   "pygments_lexer": "ipython3",
   "version": "3.12.7"
  }
 },
 "nbformat": 4,
 "nbformat_minor": 5
}
